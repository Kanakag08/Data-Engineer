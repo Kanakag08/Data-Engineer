{
 "cells": [
  {
   "cell_type": "code",
   "execution_count": 1,
   "id": "2048cbf3-9092-4f5c-9c3b-c27e7b643b93",
   "metadata": {},
   "outputs": [
    {
     "name": "stdout",
     "output_type": "stream",
     "text": [
      "30\n"
     ]
    }
   ],
   "source": [
    "x = lambda a, b : a * b\n",
    "print(x(5, 6))"
   ]
  },
  {
   "cell_type": "code",
   "execution_count": 2,
   "id": "8548e45d-10f0-4f4d-9b0b-6217718cd293",
   "metadata": {},
   "outputs": [
    {
     "name": "stdout",
     "output_type": "stream",
     "text": [
      "22\n"
     ]
    }
   ],
   "source": [
    "def myfunc(n):\n",
    "  return lambda a : a * n\n",
    "\n",
    "mydoubler = myfunc(2)\n",
    "\n",
    "print(mydoubler(11))"
   ]
  },
  {
   "cell_type": "code",
   "execution_count": 3,
   "id": "68ec46e2-aab0-4295-b550-fecea5acd60f",
   "metadata": {},
   "outputs": [
    {
     "name": "stdout",
     "output_type": "stream",
     "text": [
      "33\n"
     ]
    }
   ],
   "source": [
    "def myfunc(n):\n",
    "  return lambda a : a * n\n",
    "\n",
    "mytripler = myfunc(3)\n",
    "\n",
    "print(mytripler(11))"
   ]
  },
  {
   "cell_type": "code",
   "execution_count": 4,
   "id": "3c0f680b-6a45-4598-9a09-669bde7b7e8d",
   "metadata": {},
   "outputs": [
    {
     "name": "stdout",
     "output_type": "stream",
     "text": [
      "10\n",
      "20\n",
      "30\n",
      "40\n"
     ]
    }
   ],
   "source": [
    "\n",
    "is_even_list = [lambda arg=x: arg * 10 for x in range(1, 5)]\n",
    "for item in is_even_list:\n",
    "    print(item())\n",
    "\n"
   ]
  },
  {
   "cell_type": "code",
   "execution_count": 5,
   "id": "b61f5ea8-d92f-4c48-8113-c2f26407a557",
   "metadata": {},
   "outputs": [
    {
     "name": "stdout",
     "output_type": "stream",
     "text": [
      "[3, 16, 9]\n"
     ]
    }
   ],
   "source": [
    "List = [[2,3,4],[1, 4, 16, 64],[3, 6, 9, 12]]\n",
    " \n",
    "sortList = lambda x: (sorted(i) for i in x)\n",
    "secondLargest = lambda x, f : [y[len(y)-2] for y in f(x)]\n",
    "res = secondLargest(List, sortList)\n",
    " \n",
    "print(res)"
   ]
  },
  {
   "cell_type": "code",
   "execution_count": 6,
   "id": "47cdded6-b52f-4339-9993-4144ff15fcf5",
   "metadata": {},
   "outputs": [
    {
     "name": "stdout",
     "output_type": "stream",
     "text": [
      "[5, 7, 97, 77, 23, 73, 61]\n"
     ]
    }
   ],
   "source": [
    "li = [5, 7, 22, 97, 54, 62, 77, 23, 73, 61]\n",
    " \n",
    "final_list = list(filter(lambda x: (x % 2 != 0), li))\n",
    "print(final_list)"
   ]
  },
  {
   "cell_type": "code",
   "execution_count": 7,
   "id": "bb9e9f10-a5a0-40b6-8020-fba4c0f1cad8",
   "metadata": {},
   "outputs": [
    {
     "name": "stdout",
     "output_type": "stream",
     "text": [
      "['DOG', 'CAT', 'PARROT', 'RABBIT']\n"
     ]
    }
   ],
   "source": [
    "animals = ['dog', 'cat', 'parrot', 'rabbit']\n",
    "uppered_animals = list(map(lambda animal: animal.upper(), animals))\n",
    " \n",
    "print(uppered_animals)"
   ]
  },
  {
   "cell_type": "code",
   "execution_count": 8,
   "id": "4d5f89d8-3a4f-47d0-a4b6-6e4d33bd7271",
   "metadata": {},
   "outputs": [
    {
     "name": "stdout",
     "output_type": "stream",
     "text": [
      "193\n"
     ]
    }
   ],
   "source": [
    "\n",
    "\n",
    "from functools import reduce\n",
    "li = [5, 8, 10, 20, 50, 100]\n",
    "sum = reduce((lambda x, y: x + y), li)\n",
    "print(sum)"
   ]
  },
  {
   "cell_type": "code",
   "execution_count": null,
   "id": "0babb566-57af-433a-ac0f-5e11e3ca04a2",
   "metadata": {},
   "outputs": [],
   "source": []
  }
 ],
 "metadata": {
  "kernelspec": {
   "display_name": "Python 3 (ipykernel)",
   "language": "python",
   "name": "python3"
  },
  "language_info": {
   "codemirror_mode": {
    "name": "ipython",
    "version": 3
   },
   "file_extension": ".py",
   "mimetype": "text/x-python",
   "name": "python",
   "nbconvert_exporter": "python",
   "pygments_lexer": "ipython3",
   "version": "3.12.1"
  }
 },
 "nbformat": 4,
 "nbformat_minor": 5
}
